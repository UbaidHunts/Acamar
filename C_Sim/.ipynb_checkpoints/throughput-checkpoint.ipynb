{
 "cells": [
  {
   "cell_type": "code",
   "execution_count": 1,
   "id": "17edaed1",
   "metadata": {},
   "outputs": [],
   "source": [
    "import os"
   ]
  },
  {
   "cell_type": "code",
   "execution_count": 39,
   "id": "839b954e",
   "metadata": {
    "scrolled": true
   },
   "outputs": [
    {
     "name": "stdout",
     "output_type": "stream",
     "text": [
      "24576\n",
      "24576\n",
      "24576\n",
      "24576\n",
      "24576\n",
      "24576\n",
      "24576\n",
      "24576\n",
      "24576\n",
      "24576\n",
      "24576\n",
      "24576\n",
      "24576\n",
      "24576\n",
      "46548\n",
      "24576\n",
      "24576\n",
      "27654\n",
      "24576\n",
      "24576\n"
     ]
    }
   ],
   "source": [
    "matrices= ['2cubes_sphere', 'light_in_tissue','offshore','poisson3Db',\n",
    "           'windtunnel_evap3d', 'atmosmodm', 'ifiss_mat' , 'mono_500Hz' ,\n",
    "           'finan512','crystm03','epb3','qa8fm',\n",
    "           'G2_circuit', 'GaAsH6','Pres_Poisson','Si34H36',\n",
    "           'bcircuit','ns3Da' ,'torso2','wang3'] \n",
    "nnz= [51148, 28054, 56304, 29896, 26144,20042, 63760, 45500, 23696, 89504, 22038, 87332, 12222,\n",
    "     104274, 191992, 102788, 15894, 74372, 36033, 26298]\n",
    " \n",
    "os.system(command)\n",
    "\n",
    "for i in range(len(matrices)):\n",
    "    command = \"./main cfg1.txt cfg1.txt \" + matrices[i] + \" \"+ str(nnz[i]) + \" 8 0.15 36\"\n",
    "    output = os.popen(command).read()\n",
    "    #print(command)\n",
    "    print(output)"
   ]
  },
  {
   "cell_type": "code",
   "execution_count": null,
   "id": "df8ff1b1",
   "metadata": {},
   "outputs": [],
   "source": []
  },
  {
   "cell_type": "code",
   "execution_count": null,
   "id": "8a565e11",
   "metadata": {},
   "outputs": [],
   "source": []
  }
 ],
 "metadata": {
  "kernelspec": {
   "display_name": "Python 3",
   "language": "python",
   "name": "python3"
  },
  "language_info": {
   "codemirror_mode": {
    "name": "ipython",
    "version": 3
   },
   "file_extension": ".py",
   "mimetype": "text/x-python",
   "name": "python",
   "nbconvert_exporter": "python",
   "pygments_lexer": "ipython3",
   "version": "3.8.8"
  }
 },
 "nbformat": 4,
 "nbformat_minor": 5
}
