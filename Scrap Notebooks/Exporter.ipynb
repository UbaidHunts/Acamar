{
 "cells": [
  {
   "cell_type": "code",
   "execution_count": 1,
   "id": "6010c3fe-6f92-4665-8489-d7237fa5f210",
   "metadata": {},
   "outputs": [],
   "source": [
    "import scipy.sparse as sp\n",
    "import numpy as np\n",
    "import math\n",
    "import sys\n",
    "import matplotlib.pyplot as plt\n",
    "import socket\n",
    "from scipy.io import loadmat\n",
    "from scipy.sparse import diags\n",
    "from scipy.sparse.linalg import bicgstab\n",
    "from scipy.sparse import csr_matrix\n",
    "import scipy.sparse.linalg as  it\n",
    "from scipy.sparse import random\n",
    "import os"
   ]
  },
  {
   "cell_type": "markdown",
   "id": "d450a7c7",
   "metadata": {},
   "source": [
    "Iterative Methods Codes from Algorithms"
   ]
  },
  {
   "cell_type": "code",
   "execution_count": 2,
   "id": "f5b763f1",
   "metadata": {},
   "outputs": [],
   "source": [
    "def conjugate_gradient(A, u, b, p,r,rs_old, threshold):\n",
    "    x = u.copy() # Initial guess x0\n",
    "    #r = b - A.dot(x)  # Compute r0\n",
    "    #p = r.copy()  # Set p0 to r0\n",
    "    #rs_old = np.dot(r, r)\n",
    "    itr=0;\n",
    "    c=0\n",
    "    while(1):\n",
    "        #print(\"iteration: \", itr)\n",
    "        itr+=1\n",
    "        Ap = A.dot(p)\n",
    "        alpha = rs_old / p.dot(Ap)\n",
    "        x += alpha * p\n",
    "        \n",
    "        r -= alpha * Ap\n",
    "        rs_new = np.dot(r, r)\n",
    "        error= np.linalg.norm(r)\n",
    "        if error < threshold:\n",
    "            print(\"Converged Error in \", itr-1 ,\" itr: \",error)\n",
    "            c=1\n",
    "            break  # Convergence achieved\n",
    "        if error >10e10:\n",
    "            print(\"Diverged\")\n",
    "            break\n",
    "        beta = rs_new / rs_old\n",
    "        p = r + beta * p\n",
    "        rs_old = rs_new\n",
    "        if itr%9==0: \n",
    "            print(\"Break Error CG\",error)\n",
    "            break\n",
    "    return x,p,r,rs_old,c\n",
    "\n",
    "def bicgstab_(A,u,b,p,r,rs_old,r_star,threshold):\n",
    "    #print(\"Bi-Conjugate Gradient Stablized Algorithm\")\n",
    "    x = u.copy() # Initial guess x0\n",
    "    #r = b - A.dot(x)  # Compute r0\n",
    "    #p = r.copy()  # Set p0 to r0\n",
    "    #r_star=r.copy()\n",
    "    #rs_old = np.dot(r, r_star)\n",
    "    itr=0;\n",
    "    c=0\n",
    "    while(1):\n",
    "#         print(\"\")\n",
    "#         print(\"r[0]: \",r[0])\n",
    "        Ap=A.dot(p)\n",
    "        alpha=rs_old/Ap.dot(r_star)\n",
    "#         print(\"Printing p[0]: \",p[0]);\n",
    "#         print(\"alpha: rs_old/Ap.dot(r_star)\",rs_old, \"/\",Ap.dot(r_star), \" = \",alpha)\n",
    "        s=r-alpha*Ap\n",
    "#         print(\"Printing s: \")\n",
    "#         print(\"r[0] - alpha*Ap[0]] = \",r[0],\"-\",alpha,\"*\",Ap[0])\n",
    "        As=A.dot(s)\n",
    "        w=As.dot(s)/As.dot(As)\n",
    "        x= x+ alpha*p \n",
    "        x= x+ w*s\n",
    "        w_As=w*As\n",
    "        r = s - w_As\n",
    "        rs_new = np.dot(r,r_star)\n",
    "        error= np.linalg.norm(r)\n",
    "#         print(\"s[0] - w_As[0]\", s[0],\"-\",w_As[0]);\n",
    "        if error < threshold:\n",
    "            print(\"Convergence Error in \", itr ,\" itr: \",error)\n",
    "            c=1\n",
    "            break  # Convergence achieved\n",
    "        beta = (rs_new/rs_old)*(alpha/w)\n",
    "        p=  r + beta*(p-w*Ap)\n",
    "#         print(\"r + beta*(p-w*Ap) = \",r[0],\"+\",beta,\"*(\",p[0],\"-\",w,\"*\",Ap[0])\n",
    "        rs_old=rs_new\n",
    "        print(\"Error in \",itr, \" itr: \",error)\n",
    "        itr+=1\n",
    "        if (itr==10): \n",
    "#             print(\"Break Error BiCG\",error)\n",
    "#             break\n",
    "            ;\n",
    "        \n",
    "    return x,p,r,rs_old,c \n",
    "\n",
    "def jacobiit(A,u,b,threshold):\n",
    "    print(\"Jacobi Iteration Algorithm\")\n",
    "    dia_A, rnd_A = separate_diagonal(A)\n",
    "    D_inv = np.linalg.inv(dia_A)\n",
    "    T = D_inv.dot(rnd_A)\n",
    "    x=u.copy()\n",
    "    itr=0\n",
    "    while(1):\n",
    "        itr+=1\n",
    "        x_new = np.dot(D_inv,b) - np.dot(T,x)\n",
    "        error= np.linalg.norm(x_new-x)\n",
    "        x=x_new\n",
    "        if error < threshold:\n",
    "            print(\"Error in \", itr ,\" itr: \",error)\n",
    "            break  # Convergence achieved\n",
    "        if error > 10e10:\n",
    "            print(\"Diverged\")\n",
    "            break\n",
    "        print(\"Error in \",itr, \" itr: \",error)\n",
    "    return x"
   ]
  },
  {
   "cell_type": "markdown",
   "id": "e8fb6bb8",
   "metadata": {},
   "source": [
    "The following functions are to export SuiteSparse matrices in .txt files.\n",
    "Returns values, colidx, offsets,param (nnz,rows), and input txt. These files will be used in the C++ code to read data from. "
   ]
  },
  {
   "cell_type": "code",
   "execution_count": 3,
   "id": "88f5d420",
   "metadata": {},
   "outputs": [],
   "source": [
    "def writeFile(s,arr_name,arr,size):\n",
    "    file=open(s,'w')\n",
    "    #file.write(arr_name+\"={\")\n",
    "    for i in range(size):\n",
    "        if(i == size-1):\n",
    "            q=str(arr[i])#+'}'\n",
    "            file.write (q)\n",
    "        else: \n",
    "            q=str(arr[i])+' '\n",
    "            file.write(q)\n",
    "    file.close()"
   ]
  },
  {
   "cell_type": "code",
   "execution_count": 4,
   "id": "4b118517",
   "metadata": {},
   "outputs": [],
   "source": [
    "def ipFile(offsets,colIdx,values,param,ipfile):\n",
    "    #print('asd nk')\n",
    "    file =open(ipfile,'w')\n",
    "    for i in range(6):\n",
    "        if (i==0): \n",
    "            file.write(offsets+'\\n')\n",
    "        if (i==1): \n",
    "            file.write(colIdx+'\\n')\n",
    "        if (i==2): \n",
    "            file.write(values+'\\n')\n",
    "        if (i==3): \n",
    "            file.write(\"vec.txt\"+'\\n')\n",
    "        if (i==4): \n",
    "            file.write(\"latency.txt\"+'\\n')\n",
    "        if (i==5): \n",
    "            file.write(param+'\\n')\n",
    "    file.close()"
   ]
  },
  {
   "cell_type": "code",
   "execution_count": 5,
   "id": "1b4304a8",
   "metadata": {},
   "outputs": [],
   "source": [
    "# Define the matrix size\n",
    "def MatrixGenerateSS(sparse_matrix,offsets_,colIdx_,values_,param_,ipfile):\n",
    "    \n",
    "    rows = sparse_matrix.shape[0]\n",
    "    cols = rows\n",
    "    nnz = sparse_matrix.nnz\n",
    "    density = nnz/(rows*cols)\n",
    "    offsets =np.empty(rows, dtype=int)\n",
    "    nonzero_per_row = sparse_matrix.getnnz(axis=1)\n",
    "    row_indices = sparse_matrix.nonzero()[0]\n",
    "    col_indices = sparse_matrix.nonzero()[1]\n",
    "    values =np.empty(nnz, dtype=float)\n",
    "    for i in range(nnz):\n",
    "        values[i] = sparse_matrix.data[i]\n",
    "        \n",
    "    for j in range(rows):\n",
    "        if(j==0):\n",
    "            offsets[0]=nonzero_per_row[0]\n",
    "            continue\n",
    "        offsets[j]=nonzero_per_row[j]+offsets[j-1]\n",
    "        \n",
    "    param =np.empty(2,dtype=int)\n",
    "    param[1]=sparse_matrix.shape[0]\n",
    "    param[0]=sparse_matrix.nnz\n",
    "    \n",
    "    writeFile(offsets_, 'offsets', offsets, rows)\n",
    "    writeFile(colIdx_, 'colIdx', col_indices, nnz)\n",
    "    writeFile(values_, 'values', values, nnz)\n",
    "    writeFile(param_, 'param', param, 2)\n",
    "    ipFile(offsets_,colIdx_,values_,param_,ipfile)"
   ]
  },
  {
   "cell_type": "code",
   "execution_count": 6,
   "id": "ae53daed",
   "metadata": {},
   "outputs": [],
   "source": [
    "def getXnumberOfFilesSS(chunk,matrix):\n",
    "    \n",
    "    for i in range(1):\n",
    "        offsets_='offsets'+matrix+'.txt'\n",
    "        colIdx_='colIdx'+matrix+'.txt'\n",
    "        values_='values'+matrix+'.txt'\n",
    "        ipfile='ipfiles'+matrix+'.txt'\n",
    "        param_='param'+matrix+'.txt'\n",
    "        MatrixGenerateSS(chunk,offsets_,colIdx_,values_,param_,ipfile)"
   ]
  },
  {
   "cell_type": "markdown",
   "id": "996cba9c",
   "metadata": {},
   "source": [
    "The following functions are to export toy matrices. "
   ]
  },
  {
   "cell_type": "code",
   "execution_count": 7,
   "id": "d8d9389c",
   "metadata": {},
   "outputs": [],
   "source": [
    "def ndarray_to_csr(matrix):\n",
    "    # Initialize lists to store values, column indices, and offsets\n",
    "    values = []\n",
    "    col_indices = []\n",
    "    offsets = []  # The first offset is always 0\n",
    "\n",
    "    # Iterate over each row of the matrix\n",
    "    for i in range(matrix.shape[0]):\n",
    "        # Find non-zero elements in the row\n",
    "        non_zero_indices = np.nonzero(matrix[i])[0]\n",
    "\n",
    "        # Append non-zero values and their column indices to the respective lists\n",
    "        values.extend(matrix[i, non_zero_indices])\n",
    "        col_indices.extend(non_zero_indices)\n",
    "\n",
    "        # Update the offset for the next row\n",
    "        offsets.append(len(values))\n",
    "\n",
    "    # Convert lists to numpy arrays\n",
    "    values = np.array(values)\n",
    "    col_indices = np.array(col_indices)\n",
    "    offsets = np.array(offsets)\n",
    "\n",
    "    return values, col_indices, offsets\n",
    "\n",
    "# Sample NumPy array representing a matrix\n",
    "\n",
    "def save_csr_to_txt(values, col_indices, offsets,s, directory=\".\"):\n",
    "    # Save values to a text file with space delimiter\n",
    "    with open(f\"{directory}/values\"+s+\".txt\", \"w\") as f:\n",
    "        f.write(' '.join(map(str, values)\n",
    "        ))\n",
    "\n",
    "    # Save column indices to a text file with space delimiter\n",
    "    with open(f\"{directory}/ind\"+s+\".txt\", \"w\") as f:\n",
    "        f.write(' '.join(map(str, col_indices)))\n",
    "\n",
    "    # Save offsets to a text file with space delimiter\n",
    "    with open(f\"{directory}/offsets\"+s+\".txt\", \"w\") as f:\n",
    "        f.write(' '.join(map(str, offsets)))\n",
    "\n",
    "def chunkCSR(T, chunk_size):\n",
    "    # Ensure chunk size is valid\n",
    "    assert T.shape[0] >= chunk_size and T.shape[1] >= chunk_size, \"Chunk size exceeds matrix dimensions\"\n",
    "\n",
    "    # Extract chunk of the matrix\n",
    "    chunk_data = T[:chunk_size, :chunk_size]\n",
    "\n",
    "    # Convert chunk to CSR format\n",
    "    chunk_csr = csr_matrix(chunk_data)\n",
    "\n",
    "    return chunk_csr\n",
    "\n",
    "def diagDom(matrix):\n",
    "    # Check if the matrix is CSR format\n",
    "    assert isinstance(matrix, csr_matrix), \"Input matrix must be in CSR format\"\n",
    "\n",
    "    # Get the diagonal elements\n",
    "    diagonal = matrix.diagonal()\n",
    "\n",
    "    # Check if all off-diagonal elements are zero\n",
    "    off_diagonal_sum = matrix.sum() - diagonal.sum()\n",
    "\n",
    "    return off_diagonal_sum == 0"
   ]
  },
  {
   "cell_type": "code",
   "execution_count": 8,
   "id": "2855d0a8",
   "metadata": {},
   "outputs": [],
   "source": [
    "# ##Running BiCG-STAB on matrix A\n",
    "\n"
   ]
  },
  {
   "cell_type": "code",
   "execution_count": 13,
   "id": "23aa4831",
   "metadata": {},
   "outputs": [
    {
     "name": "stdout",
     "output_type": "stream",
     "text": [
      "[[0.         0.         0.         0.         0.46224269]\n",
      " [0.         0.42134066 0.16578191 0.         0.        ]\n",
      " [0.7828573  0.         0.         0.         0.        ]\n",
      " [0.         0.98727827 0.         0.         0.        ]\n",
      " [0.         0.         0.         0.         0.        ]]\n"
     ]
    },
    {
     "ename": "FileNotFoundError",
     "evalue": "A_4096.txt not found.",
     "output_type": "error",
     "traceback": [
      "\u001b[0;31m---------------------------------------------------------------------------\u001b[0m",
      "\u001b[0;31mFileNotFoundError\u001b[0m                         Traceback (most recent call last)",
      "\u001b[0;32m<ipython-input-13-6c48a7cefcee>\u001b[0m in \u001b[0;36m<module>\u001b[0;34m\u001b[0m\n\u001b[1;32m     18\u001b[0m \u001b[0;34m\u001b[0m\u001b[0m\n\u001b[1;32m     19\u001b[0m \u001b[0mfile_path\u001b[0m \u001b[0;34m=\u001b[0m \u001b[0;34m\"A_4096.txt\"\u001b[0m\u001b[0;34m\u001b[0m\u001b[0;34m\u001b[0m\u001b[0m\n\u001b[0;32m---> 20\u001b[0;31m \u001b[0mmatrix\u001b[0m \u001b[0;34m=\u001b[0m \u001b[0mnp\u001b[0m\u001b[0;34m.\u001b[0m\u001b[0mloadtxt\u001b[0m\u001b[0;34m(\u001b[0m\u001b[0mfile_path\u001b[0m\u001b[0;34m)\u001b[0m\u001b[0;34m\u001b[0m\u001b[0;34m\u001b[0m\u001b[0m\n\u001b[0m\u001b[1;32m     21\u001b[0m \u001b[0mvalues\u001b[0m\u001b[0;34m,\u001b[0m \u001b[0mcol_indices\u001b[0m\u001b[0;34m,\u001b[0m \u001b[0moffsets\u001b[0m \u001b[0;34m=\u001b[0m \u001b[0mndarray_to_csr\u001b[0m\u001b[0;34m(\u001b[0m\u001b[0mmatrix\u001b[0m\u001b[0;34m)\u001b[0m\u001b[0;34m\u001b[0m\u001b[0;34m\u001b[0m\u001b[0m\n\u001b[1;32m     22\u001b[0m \u001b[0mprint\u001b[0m\u001b[0;34m(\u001b[0m\u001b[0;34m\"Values:\"\u001b[0m\u001b[0;34m,\u001b[0m \u001b[0mvalues\u001b[0m\u001b[0;34m)\u001b[0m\u001b[0;34m\u001b[0m\u001b[0;34m\u001b[0m\u001b[0m\n",
      "\u001b[0;32m/Applications/anaconda3/lib/python3.8/site-packages/numpy/lib/npyio.py\u001b[0m in \u001b[0;36mloadtxt\u001b[0;34m(fname, dtype, comments, delimiter, converters, skiprows, usecols, unpack, ndmin, encoding, max_rows, quotechar, like)\u001b[0m\n\u001b[1;32m   1354\u001b[0m         \u001b[0mdelimiter\u001b[0m \u001b[0;34m=\u001b[0m \u001b[0mdelimiter\u001b[0m\u001b[0;34m.\u001b[0m\u001b[0mdecode\u001b[0m\u001b[0;34m(\u001b[0m\u001b[0;34m'latin1'\u001b[0m\u001b[0;34m)\u001b[0m\u001b[0;34m\u001b[0m\u001b[0;34m\u001b[0m\u001b[0m\n\u001b[1;32m   1355\u001b[0m \u001b[0;34m\u001b[0m\u001b[0m\n\u001b[0;32m-> 1356\u001b[0;31m     arr = _read(fname, dtype=dtype, comment=comment, delimiter=delimiter,\n\u001b[0m\u001b[1;32m   1357\u001b[0m                 \u001b[0mconverters\u001b[0m\u001b[0;34m=\u001b[0m\u001b[0mconverters\u001b[0m\u001b[0;34m,\u001b[0m \u001b[0mskiplines\u001b[0m\u001b[0;34m=\u001b[0m\u001b[0mskiprows\u001b[0m\u001b[0;34m,\u001b[0m \u001b[0musecols\u001b[0m\u001b[0;34m=\u001b[0m\u001b[0musecols\u001b[0m\u001b[0;34m,\u001b[0m\u001b[0;34m\u001b[0m\u001b[0;34m\u001b[0m\u001b[0m\n\u001b[1;32m   1358\u001b[0m                 \u001b[0munpack\u001b[0m\u001b[0;34m=\u001b[0m\u001b[0munpack\u001b[0m\u001b[0;34m,\u001b[0m \u001b[0mndmin\u001b[0m\u001b[0;34m=\u001b[0m\u001b[0mndmin\u001b[0m\u001b[0;34m,\u001b[0m \u001b[0mencoding\u001b[0m\u001b[0;34m=\u001b[0m\u001b[0mencoding\u001b[0m\u001b[0;34m,\u001b[0m\u001b[0;34m\u001b[0m\u001b[0;34m\u001b[0m\u001b[0m\n",
      "\u001b[0;32m/Applications/anaconda3/lib/python3.8/site-packages/numpy/lib/npyio.py\u001b[0m in \u001b[0;36m_read\u001b[0;34m(fname, delimiter, comment, quote, imaginary_unit, usecols, skiplines, max_rows, converters, ndmin, unpack, dtype, encoding)\u001b[0m\n\u001b[1;32m    973\u001b[0m             \u001b[0mfname\u001b[0m \u001b[0;34m=\u001b[0m \u001b[0mos\u001b[0m\u001b[0;34m.\u001b[0m\u001b[0mfspath\u001b[0m\u001b[0;34m(\u001b[0m\u001b[0mfname\u001b[0m\u001b[0;34m)\u001b[0m\u001b[0;34m\u001b[0m\u001b[0;34m\u001b[0m\u001b[0m\n\u001b[1;32m    974\u001b[0m         \u001b[0;32mif\u001b[0m \u001b[0misinstance\u001b[0m\u001b[0;34m(\u001b[0m\u001b[0mfname\u001b[0m\u001b[0;34m,\u001b[0m \u001b[0mstr\u001b[0m\u001b[0;34m)\u001b[0m\u001b[0;34m:\u001b[0m\u001b[0;34m\u001b[0m\u001b[0;34m\u001b[0m\u001b[0m\n\u001b[0;32m--> 975\u001b[0;31m             \u001b[0mfh\u001b[0m \u001b[0;34m=\u001b[0m \u001b[0mnp\u001b[0m\u001b[0;34m.\u001b[0m\u001b[0mlib\u001b[0m\u001b[0;34m.\u001b[0m\u001b[0m_datasource\u001b[0m\u001b[0;34m.\u001b[0m\u001b[0mopen\u001b[0m\u001b[0;34m(\u001b[0m\u001b[0mfname\u001b[0m\u001b[0;34m,\u001b[0m \u001b[0;34m'rt'\u001b[0m\u001b[0;34m,\u001b[0m \u001b[0mencoding\u001b[0m\u001b[0;34m=\u001b[0m\u001b[0mencoding\u001b[0m\u001b[0;34m)\u001b[0m\u001b[0;34m\u001b[0m\u001b[0;34m\u001b[0m\u001b[0m\n\u001b[0m\u001b[1;32m    976\u001b[0m             \u001b[0;32mif\u001b[0m \u001b[0mencoding\u001b[0m \u001b[0;32mis\u001b[0m \u001b[0;32mNone\u001b[0m\u001b[0;34m:\u001b[0m\u001b[0;34m\u001b[0m\u001b[0;34m\u001b[0m\u001b[0m\n\u001b[1;32m    977\u001b[0m                 \u001b[0mencoding\u001b[0m \u001b[0;34m=\u001b[0m \u001b[0mgetattr\u001b[0m\u001b[0;34m(\u001b[0m\u001b[0mfh\u001b[0m\u001b[0;34m,\u001b[0m \u001b[0;34m'encoding'\u001b[0m\u001b[0;34m,\u001b[0m \u001b[0;34m'latin1'\u001b[0m\u001b[0;34m)\u001b[0m\u001b[0;34m\u001b[0m\u001b[0;34m\u001b[0m\u001b[0m\n",
      "\u001b[0;32m/Applications/anaconda3/lib/python3.8/site-packages/numpy/lib/_datasource.py\u001b[0m in \u001b[0;36mopen\u001b[0;34m(path, mode, destpath, encoding, newline)\u001b[0m\n\u001b[1;32m    191\u001b[0m \u001b[0;34m\u001b[0m\u001b[0m\n\u001b[1;32m    192\u001b[0m     \u001b[0mds\u001b[0m \u001b[0;34m=\u001b[0m \u001b[0mDataSource\u001b[0m\u001b[0;34m(\u001b[0m\u001b[0mdestpath\u001b[0m\u001b[0;34m)\u001b[0m\u001b[0;34m\u001b[0m\u001b[0;34m\u001b[0m\u001b[0m\n\u001b[0;32m--> 193\u001b[0;31m     \u001b[0;32mreturn\u001b[0m \u001b[0mds\u001b[0m\u001b[0;34m.\u001b[0m\u001b[0mopen\u001b[0m\u001b[0;34m(\u001b[0m\u001b[0mpath\u001b[0m\u001b[0;34m,\u001b[0m \u001b[0mmode\u001b[0m\u001b[0;34m,\u001b[0m \u001b[0mencoding\u001b[0m\u001b[0;34m=\u001b[0m\u001b[0mencoding\u001b[0m\u001b[0;34m,\u001b[0m \u001b[0mnewline\u001b[0m\u001b[0;34m=\u001b[0m\u001b[0mnewline\u001b[0m\u001b[0;34m)\u001b[0m\u001b[0;34m\u001b[0m\u001b[0;34m\u001b[0m\u001b[0m\n\u001b[0m\u001b[1;32m    194\u001b[0m \u001b[0;34m\u001b[0m\u001b[0m\n\u001b[1;32m    195\u001b[0m \u001b[0;34m\u001b[0m\u001b[0m\n",
      "\u001b[0;32m/Applications/anaconda3/lib/python3.8/site-packages/numpy/lib/_datasource.py\u001b[0m in \u001b[0;36mopen\u001b[0;34m(self, path, mode, encoding, newline)\u001b[0m\n\u001b[1;32m    531\u001b[0m                                       encoding=encoding, newline=newline)\n\u001b[1;32m    532\u001b[0m         \u001b[0;32melse\u001b[0m\u001b[0;34m:\u001b[0m\u001b[0;34m\u001b[0m\u001b[0;34m\u001b[0m\u001b[0m\n\u001b[0;32m--> 533\u001b[0;31m             \u001b[0;32mraise\u001b[0m \u001b[0mFileNotFoundError\u001b[0m\u001b[0;34m(\u001b[0m\u001b[0;34mf\"{path} not found.\"\u001b[0m\u001b[0;34m)\u001b[0m\u001b[0;34m\u001b[0m\u001b[0;34m\u001b[0m\u001b[0m\n\u001b[0m\u001b[1;32m    534\u001b[0m \u001b[0;34m\u001b[0m\u001b[0m\n\u001b[1;32m    535\u001b[0m \u001b[0;34m\u001b[0m\u001b[0m\n",
      "\u001b[0;31mFileNotFoundError\u001b[0m: A_4096.txt not found."
     ]
    }
   ],
   "source": [
    "file_path = \"A_4096.txt\"\n",
    "matrix = np.loadtxt(file_path)\n",
    "values, col_indices, offsets = ndarray_to_csr(matrix)\n",
    "print(\"Values:\", values)\n",
    "print(\"Column Indices:\", col_indices)\n",
    "print(\"Offsets:\", offsets)\n",
    "save_csr_to_txt(values, col_indices, offsets,\"A4096\")"
   ]
  },
  {
   "cell_type": "markdown",
   "id": "435e0773",
   "metadata": {},
   "source": [
    "SuiteSparse Matrices"
   ]
  },
  {
   "cell_type": "code",
   "execution_count": 20,
   "id": "2a8ac0f0",
   "metadata": {},
   "outputs": [],
   "source": [
    "chunk=4096\n",
    "b = np.ones(chunk)\n",
    "u0 = np.ones(chunk)\n",
    "matrices = []\n",
    "#matrices= ['2cubes_sphere_ex', 'light_in_tissue_ex','offshore_ex','TEM152078_ex','poisson3Db_ex',\n",
    "#           'windtunnel_evap3d_ex', 'atmosmodm_ex', 'ifiss_mat_ex' , 'mono_500Hz_ex' ]  ##Add more matrices in the array. The code will output the csr format in .txt\n",
    "# matrices=['finan512_ex','ASIC_100k_ex','crystm03_ex','epb3_ex','qa8fm_ex','scircuit_ex',\n",
    "#           'thermomech_TC_ex','xenon1_ex']\n",
    "# matrices = ['G2_circuit_ex', 'GaAsH6_ex','Pres_Poisson_ex','Si34H36_ex','Trefethen_20000_ex',\n",
    "#             'bcircuit_ex','ns3Da_ex']\n",
    "# matrices = ['torso2_ex','wang3_ex']\n",
    "\n",
    "\n",
    "ps=\"4k\"\n",
    "for matrix in matrices:\n",
    "    matx = loadmat(matrix)\n",
    "    S = matx['matx']\n",
    "    T = S.tocoo().tocsr()\n",
    "    T.data = T.data.astype(np.float32)\n",
    "    U=chunkCSR(T,chunk)\n",
    "    print(\"NNZ in \",chunk ,\"portion of\", matrix, \"=\",U.nnz)\n",
    "    print(\"DIM in \",chunk ,\"portion of\", matrix,\"=\",U.shape[0])\n",
    "    getXnumberOfFilesSS(U, matrix+ps); \n",
    "    #u, info = it.cg(U, b, x0=u0)\n",
    "    #print(u)\n",
    "    #print(matrix,\" Diverged for cg? \",info)\n",
    "    #u, info = it.bicgstab(U, b, x0=u0)\n",
    "    #print(u)\n",
    "    #print(matrix,\" Diverged for BiCG? \",info)\n",
    "    #dia = diagDom(U)\n",
    "    #print(matrix,\" Strictly Diagonally Dominant ? \",int(dia))\n",
    "    print(\"().txt exported for '\",matrix,chunk,\"' dataset\");print(\"\");"
   ]
  },
  {
   "cell_type": "code",
   "execution_count": 38,
   "id": "8bfbd9f3",
   "metadata": {},
   "outputs": [
    {
     "name": "stdout",
     "output_type": "stream",
     "text": [
      "cd D:\\University\\UMD\\Ph.D\\ItSolvers\\C_Sim\n",
      "main cfg1.txt ASIC_100K 104274\n",
      "\n"
     ]
    }
   ],
   "source": [
    "\n",
    "cfg_name = \"cfg1.txt\"\n",
    "matrix = \"ASIC_100K\"\n",
    "nnz = 104274\n",
    "filepath = 'D:\\\\University\\\\UMD\\Ph.D\\\\ItSolvers\\\\C_Sim'\n",
    "command = \"cd \" + filepath\n",
    "print(command)\n",
    "os.system(command)\n",
    "\n",
    "command = \"main \" + cfg_name + \" \" + matrix + \" \"+ str(nnz)\n",
    "output = os.popen(command).read()\n",
    "print(command)\n",
    "# Print the output\n",
    "print(output)"
   ]
  },
  {
   "cell_type": "markdown",
   "id": "bb6ae179",
   "metadata": {},
   "source": [
    "## The following cells are specific for review_Acamar and calculates the area, power and load imbalance information"
   ]
  },
  {
   "cell_type": "code",
   "execution_count": 67,
   "id": "aaa2fa10",
   "metadata": {},
   "outputs": [
    {
     "name": "stdout",
     "output_type": "stream",
     "text": [
      "NNZ in  4096 portion of TEM152078_ex = 133192\n",
      "DIM in  4096 portion of TEM152078_ex = 4096\n",
      "nnz 1st row:  [32]\n",
      "[74, 74, 74, 74, 74, 74, 74, 74, 74, 74, 74, 74, 74, 74, 74, 74, 74, 74, 74, 74, 74, 74, 74, 74, 74, 74, 74, 74, 74, 74, 74, 74]\n",
      "[30, 30, 30, 30, 30, 30, 30, 30, 30, 30, 30, 30, 30, 30, 30, 30, 30, 30, 30, 30, 30, 30, 30, 30, 30, 30, 30, 30, 30, 30, 30, 30]\n",
      "().txt exported for ' TEM152078_ex 4096 ' dataset\n",
      "\n"
     ]
    }
   ],
   "source": [
    "chunk=4096\n",
    "b = np.ones(chunk)\n",
    "u0 = np.ones(chunk)\n",
    "matrices = []\n",
    "#matrices= ['2cubes_sphere_ex', 'light_in_tissue_ex','offshore_ex','TEM152078_ex','poisson3Db_ex',\n",
    "#           'windtunnel_evap3d_ex', 'atmosmodm_ex', 'ifiss_mat_ex' , 'mono_500Hz_ex' ]  ##Add more matrices in the array. The code will output the csr format in .txt\n",
    "# matrices=['finan512_ex','ASIC_100k_ex','crystm03_ex','epb3_ex','qa8fm_ex','scircuit_ex',\n",
    "#           'thermomech_TC_ex','xenon1_ex']\n",
    "# matrices = ['G2_circuit_ex', 'GaAsH6_ex','Pres_Poisson_ex','Si34H36_ex','Trefethen_20000_ex',\n",
    "#             'bcircuit_ex','ns3Da_ex']\n",
    "#matrices = ['torso2_ex','wang3_ex']\n",
    "matrices= ['TEM152078_ex']\n",
    "\n",
    "ps=\"4k\"\n",
    "for matrix in matrices:\n",
    "    matx = loadmat(matrix)\n",
    "    S = matx['matx']\n",
    "    T = S.tocoo().tocsr()\n",
    "    T.data = T.data.astype(np.float32)\n",
    "    U=chunkCSR(T,chunk)\n",
    "    print(\"NNZ in \",chunk ,\"portion of\", matrix, \"=\",U.nnz)\n",
    "    print(\"DIM in \",chunk ,\"portion of\", matrix,\"=\",U.shape[0])\n",
    "    print(\"nnz 1st row: \", U[0].getnnz(axis=1))\n",
    "    max_length=list()\n",
    "    min_length=list()\n",
    "    \n",
    "    for i in range(32):\n",
    "        maxx=0\n",
    "        minn=0\n",
    "        for j in range(128):\n",
    "            nnz = U[j].getnnz(axis=1)\n",
    "            #if (i==30):\n",
    "             #   print(\"in 30th: \", nnz[0])\n",
    "            if (nnz[0] > maxx):\n",
    "                maxx=nnz\n",
    "            else:\n",
    "                minn=nnz\n",
    "        max_length.append(maxx[0])\n",
    "        min_length.append(minn[0])\n",
    "        \n",
    "    print(max_length)\n",
    "    print(min_length)\n",
    "    print(\"().txt exported for '\",matrix,chunk,\"' dataset\");print(\"\");"
   ]
  },
  {
   "cell_type": "markdown",
   "id": "63e406be",
   "metadata": {},
   "source": [
    "\n",
    "# SCRAP CODE---FOR TESTING"
   ]
  },
  {
   "cell_type": "code",
   "execution_count": 38,
   "id": "606f5c3b",
   "metadata": {},
   "outputs": [
    {
     "name": "stdout",
     "output_type": "stream",
     "text": [
      "256\n",
      "Diverged for cg?  0\n",
      "Divergedfor BiCG?  0\n"
     ]
    }
   ],
   "source": [
    "A =U #.tocsc()\n",
    "\n",
    "num_rows = A.shape[0]\n",
    "print(num_rows)\n",
    "\n",
    "b = np.ones(num_rows)\n",
    "u0 = np.ones(num_rows)\n",
    "# Solve the linear system using CG algorithm\n",
    "u, info = it.cg(A, b, x0=u0)\n",
    "#print(u)\n",
    "print(\"Diverged for cg? \",info)\n",
    "u, info = it.bicgstab(A, b, x0=u0)\n",
    "#print(u)\n",
    "print(\"Divergedfor BiCG? \",info)\n",
    "\n"
   ]
  },
  {
   "cell_type": "code",
   "execution_count": null,
   "id": "ab7bf424",
   "metadata": {},
   "outputs": [],
   "source": [
    "A=T\n",
    "u = np.ones(T.shape[0],dtype=np.float32)\n",
    "b = np.ones(T.shape[0],dtype=np.float32)\n",
    "r = b - A.dot(u)\n",
    "p = r.copy()\n",
    "rs_old = np.dot(r, r)\n",
    "r_star=r.copy()\n",
    "conv=0\n",
    "solution_,p,r,rs_old,conv=bicgstab_(A,u,b,p,r,rs_old,r_star,0.0001)\n",
    "\n",
    "\n",
    "#solution_,p,r,rs_old,conv= conjugate_gradient(A, u, b, p,r,rs_old,0.0001)\n",
    "print (solution_)\n",
    "\n",
    "#solution_,p,r,rs_old = conjugate_gradient(A, u, b, p,r,rs_old,0.0001)\n",
    "#print(solution_)\n",
    "jj=0\n",
    "# while (jj!=1000):\n",
    "#     if (jj<20):\n",
    "#         solution_,p,r,rs_old,conv=bicgstab_(A,solution_,b,p,r,rs_old,r_star,0.0001)\n",
    "#         #solution_,p,r,rs_old,conv = conjugate_gradient(A, solution_, b, p,r,rs_old,0.0001)\n",
    "#         if (jj==19):\n",
    "#             u = np.ones(T.shape[0])\n",
    "#             b = np.ones(T.shape[0])\n",
    "#             r = b - A.dot(u)\n",
    "#             p = r.copy() \n",
    "#             rs_old = np.dot(r, r)\n",
    "#             r_star=r.copy()\n",
    "#         if(conv ==1):break\n",
    "            \n",
    "    \n",
    "#     else:\n",
    "#         solution_,p,r,rs_old,conv= conjugate_gradient(A, solution_, b, p,r,rs_old,0.0001)\n",
    "\n",
    "#         #solution_,p,r,rs_old,conv=bicgstab_(A,solution_,b,p,r,rs_old,r_star,0.0001)\n",
    "#         if(conv ==1): break\n",
    "#     jj+=1\n",
    "#     if (conv==1):\n",
    "#         break\n",
    "    \n",
    "print(\"total iterations: \", jj*10)"
   ]
  },
  {
   "cell_type": "code",
   "execution_count": 70,
   "id": "5ab5e04f",
   "metadata": {},
   "outputs": [
    {
     "data": {
      "text/plain": [
       "208.17"
      ]
     },
     "execution_count": 70,
     "metadata": {},
     "output_type": "execute_result"
    }
   ],
   "source": [
    "152.97+13.57+11.49+5+3.59+20.16+1.39"
   ]
  },
  {
   "cell_type": "code",
   "execution_count": 71,
   "id": "177ec823",
   "metadata": {},
   "outputs": [
    {
     "data": {
      "text/plain": [
       "330.41"
      ]
     },
     "execution_count": 71,
     "metadata": {},
     "output_type": "execute_result"
    }
   ],
   "source": [
    "208.17+5.27+2.99+15+32+31.67+21.41+13.90"
   ]
  },
  {
   "cell_type": "code",
   "execution_count": 74,
   "id": "97562e1f",
   "metadata": {},
   "outputs": [
    {
     "data": {
      "text/plain": [
       "460.48"
      ]
     },
     "execution_count": 74,
     "metadata": {},
     "output_type": "execute_result"
    }
   ],
   "source": [
    " 340+ 40.81+29.66+17.53+19.88+12.60"
   ]
  },
  {
   "cell_type": "code",
   "execution_count": 75,
   "id": "927f62b1",
   "metadata": {},
   "outputs": [
    {
     "data": {
      "text/plain": [
       "250.82999999999998"
      ]
     },
     "execution_count": 75,
     "metadata": {},
     "output_type": "execute_result"
    }
   ],
   "source": [
    "179+71.83"
   ]
  },
  {
   "cell_type": "code",
   "execution_count": 76,
   "id": "144d1e4b",
   "metadata": {},
   "outputs": [
    {
     "data": {
      "text/plain": [
       "146.23000000000002"
      ]
     },
     "execution_count": 76,
     "metadata": {},
     "output_type": "execute_result"
    }
   ],
   "source": [
    "25.50+27.95+24.81+30.56+17.53+19.88"
   ]
  },
  {
   "cell_type": "code",
   "execution_count": 77,
   "id": "7e1678a1",
   "metadata": {},
   "outputs": [
    {
     "data": {
      "text/plain": [
       "24.954879961403282"
      ]
     },
     "execution_count": 77,
     "metadata": {},
     "output_type": "execute_result"
    }
   ],
   "source": [
    "pow(5.11653e+44,1/32)"
   ]
  },
  {
   "cell_type": "code",
   "execution_count": 78,
   "id": "6631291a",
   "metadata": {},
   "outputs": [
    {
     "data": {
      "text/plain": [
       "3.003229405202278"
      ]
     },
     "execution_count": 78,
     "metadata": {},
     "output_type": "execute_result"
    }
   ],
   "source": [
    "2*51148/34062"
   ]
  },
  {
   "cell_type": "code",
   "execution_count": 80,
   "id": "5d35fd52",
   "metadata": {},
   "outputs": [
    {
     "data": {
      "text/plain": [
       "12.0"
      ]
     },
     "execution_count": 80,
     "metadata": {},
     "output_type": "execute_result"
    }
   ],
   "source": [
    "3*100/25"
   ]
  },
  {
   "cell_type": "code",
   "execution_count": 81,
   "id": "7538c9f8",
   "metadata": {},
   "outputs": [
    {
     "ename": "SyntaxError",
     "evalue": "invalid syntax (<ipython-input-81-8f03fd0060ab>, line 1)",
     "output_type": "error",
     "traceback": [
      "\u001b[0;36m  File \u001b[0;32m\"<ipython-input-81-8f03fd0060ab>\"\u001b[0;36m, line \u001b[0;32m1\u001b[0m\n\u001b[0;31m    2 flops = 1cc\u001b[0m\n\u001b[0m      ^\u001b[0m\n\u001b[0;31mSyntaxError\u001b[0m\u001b[0;31m:\u001b[0m invalid syntax\n"
     ]
    }
   ],
   "source": [
    "2 flops = 1cc and 1 cc = 66Mhz"
   ]
  },
  {
   "cell_type": "code",
   "execution_count": 82,
   "id": "f4681af1",
   "metadata": {},
   "outputs": [
    {
     "data": {
      "text/plain": [
       "0.030303030303030304"
      ]
     },
     "execution_count": 82,
     "metadata": {},
     "output_type": "execute_result"
    }
   ],
   "source": [
    "2/66"
   ]
  },
  {
   "cell_type": "code",
   "execution_count": null,
   "id": "b26dcbca",
   "metadata": {},
   "outputs": [],
   "source": [
    "0.030 FLOPS/s"
   ]
  }
 ],
 "metadata": {
  "kernelspec": {
   "display_name": "Python 3",
   "language": "python",
   "name": "python3"
  },
  "language_info": {
   "codemirror_mode": {
    "name": "ipython",
    "version": 3
   },
   "file_extension": ".py",
   "mimetype": "text/x-python",
   "name": "python",
   "nbconvert_exporter": "python",
   "pygments_lexer": "ipython3",
   "version": "3.8.8"
  }
 },
 "nbformat": 4,
 "nbformat_minor": 5
}
